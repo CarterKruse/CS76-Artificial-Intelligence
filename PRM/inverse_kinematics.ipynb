{
 "cells": [
  {
   "cell_type": "markdown",
   "metadata": {},
   "source": [
    "## Inverse Kinematics\n",
    "### Carter Kruse\n",
    "\n",
    "---\n",
    "\n",
    "This Jupyter notebook walks through an exploration of inverse kinematics, using `bqplot`. The following provides a description of inverse kinematics, alongside the code that corresponds to the description."
   ]
  },
  {
   "cell_type": "markdown",
   "metadata": {},
   "source": [
    "### Imports\n",
    "\n",
    "The following import statements are required to show the plots of this Jupyter notebook. In this project, we use a library called **[bqplot](https://github.com/bloomberg/bqplot)** developed by Bloomberg, which enables fully interactive plots within the Jupyter notebook. By default, this library is not part of the Python distribution, so we must install it."
   ]
  },
  {
   "cell_type": "code",
   "execution_count": 1,
   "metadata": {},
   "outputs": [],
   "source": [
    "%%capture\n",
    "%pip install numpy matplotlib bqplot scipy\n",
    "%jupyter nbextension enable --py --sys-prefix bqplot\n",
    "%jupyter nbextension enable --py --sys-prefix widgetsnbextension"
   ]
  },
  {
   "cell_type": "code",
   "execution_count": 2,
   "metadata": {},
   "outputs": [],
   "source": [
    "import numpy as np # Building & Manipulating Matrices\n",
    "\n",
    "# SciPy\n",
    "import scipy.linalg as la\n",
    "\n",
    "# Optimization Package\n",
    "import scipy.optimize as opt\n",
    "\n",
    "# Plotting Library\n",
    "import bqplot as bqp\n",
    "\n",
    "# Graphical User Interface Components\n",
    "from ipywidgets import interact\n",
    "from ipywidgets import FloatSlider, VBox"
   ]
  },
  {
   "cell_type": "markdown",
   "metadata": {},
   "source": [
    "### Forward Kinematics\n",
    "\n",
    "First, we will investigate the mathematics a chain of segments in two dimensions with joint positions $ \\bm{v_i} = \\left( x_i, y_i \\right) $. As with the assignment, the first joint is rigidly attached to the origin (i.e. $ \\bm{p_0} = \\left( 0, 0 \\right) $) while the other joints and segments are free to move in any way. We will assume that all of the segments have the same length $ l_1 = l_2 = \\ldots = 1 $.\n",
    "\n",
    "Each parameter $ \\theta_i \\in [0, 2 \\pi] $ specifies the counter-clockwise angle that the associated segment from joint $ \\bm{p_{i - 1}} $ to joint $ \\bm{p_i} $ makes with its predecessor segment (the pair of segments are parallel if $ \\theta_i = 0 $). The first segment does not have a predecessor, hence $ \\theta_1 $ is measured relative to the $ x $ axis. Note how the complete set of segment angles $ \\theta_1, \\theta_2, \\ldots $ is all the information we need to compute the precise positions of all the joint positions in Euclidean space.\n",
    "\n",
    "Forward kinematics is defined as the problem of converting a set of segment angles $ \\theta_i $ into joint positions $ \\bm{p_i} $. Since $ \\bm{p_i} $ depends on all of the preceding angles, we can think of each joint position as a function $ \\bm{p_i} = \\bm{p \\left( \\theta_1, \\ldots, \\theta_{i} \\right)} $."
   ]
  },
  {
   "cell_type": "markdown",
   "metadata": {},
   "source": [
    "#### A Simple 1-Segment Chain\n",
    "\n",
    "Now, we create a function `chain_simple`, which solves the forward kinematics for a chain with at most one segment. The function takes in an array of angles as a parameter, which can be of length 0 or 1. When no angles are specified, the function returns the position of the first joint $ \\left( x_0, y_0 \\right) = \\left( 0, 0 \\right) $ as a 1D `numpy` array. When a single angle is specified, it returns the position $ x_1, y_1 $."
   ]
  },
  {
   "cell_type": "code",
   "execution_count": 3,
   "metadata": {},
   "outputs": [
    {
     "name": "stdout",
     "output_type": "stream",
     "text": [
      "chain_simple: [0. 0.]\n",
      "reference:    [0. 0.]\n",
      "\n",
      "chain_simple: [1. 0.]\n",
      "reference:    [1. 0.]\n",
      "\n",
      "chain_simple: [0.70710678 0.70710678]\n",
      "reference:    [0.70710678 0.70710678]\n"
     ]
    }
   ],
   "source": [
    "# Solves the forward kinematics for a chain with at most one segment.\n",
    "def chain_simple(theta):\n",
    "    # Base Case\n",
    "    if len(theta) == 0:\n",
    "        return np.array([0., 0.])\n",
    "    \n",
    "    # Advanced Case\n",
    "    else:\n",
    "        return np.array([np.cos(theta[0]), np.sin(theta[0])])\n",
    "\n",
    "# Tests\n",
    "print('chain_simple:', chain_simple([]))\n",
    "print('reference:   ', np.array([0., 0.]))\n",
    "print()\n",
    "print('chain_simple:', chain_simple([0.]))\n",
    "print('reference:   ', np.array([1., 0.]))\n",
    "print()\n",
    "print('chain_simple:', chain_simple([np.pi / 4]))\n",
    "print('reference:   ', np.array([0.70710678, 0.70710678]))"
   ]
  },
  {
   "cell_type": "markdown",
   "metadata": {},
   "source": [
    "#### Visualization Of The Forward Kinematics\n",
    "\n",
    "**Helper Function**\n",
    "\n",
    "We provide the function ``fk_demo()`` below to interactively explore the possible chain configurations via forward kinematics. The implementation uses the ``bqplot`` library mentioned above and is fairly technical."
   ]
  },
  {
   "cell_type": "code",
   "execution_count": 4,
   "metadata": {},
   "outputs": [],
   "source": [
    "def fk_demo(chain_func, theta, extra = [[],[]]):\n",
    "    '''\n",
    "    This function visualizes the configuration of a chain of segments\n",
    "    and permits interactive changes to its state. It expects two arguments:\n",
    "    \n",
    "    ``chain_func``: A function that implements forward kinematics by\n",
    "    turning a sequence of angles (theta_1, theta_2, ..., theta_n) into\n",
    "    the position of the last joint of this chain (x_n, y_n).\n",
    "    \n",
    "    ``theta``: An array with the initial angles of all joints.\n",
    "    \n",
    "    ``extra``: An optional argument which can be used to plot\n",
    "    additional points that are highlighted in red.\n",
    "    '''\n",
    "    \n",
    "    # Function which repeatedly calls ``chain_func`` to compute all joint positions.\n",
    "    def chain_all(theta):\n",
    "        return np.column_stack([chain_func(theta[:i]) for i in range(0, len(theta) + 1)])\n",
    "\n",
    "    # Determine Size & Initial Configuration\n",
    "    size = len(theta)\n",
    "    positions = chain_all(theta)\n",
    "\n",
    "    # Define the range of the plotting frame.\n",
    "    scales = {'x': bqp.LinearScale(min = -size - 1, max = size + 1),\n",
    "              'y': bqp.LinearScale(min = -size - 1, max = size + 1)}\n",
    "\n",
    "    # Create a scatter plot (for joints), a line plot (for segments), and\n",
    "    # another scatter plot (to draw extra points specified the ``extra`` argument).\n",
    "    scat  = bqp.Scatter(scales = scales)\n",
    "    lines = bqp.Lines(scales = scales)\n",
    "    scat2 = bqp.Scatter(scales = scales, colors = ['red'])\n",
    "\n",
    "    # Create a figure that combines the three plots.\n",
    "    figure = bqp.Figure(marks = [scat, scat2, lines])\n",
    "    figure.layout.height = '500px'\n",
    "    figure.layout.width = '500px'\n",
    "\n",
    "    # Initialize the plots with the initial data.\n",
    "    scat.x, scat.y = positions\n",
    "    lines.x, lines.y = positions\n",
    "    scat2.x, scat2.y = extra\n",
    "    \n",
    "    sliders = []\n",
    "    \n",
    "    # Cycling through the angles theta_i.\n",
    "    for i in range(len(theta)):\n",
    "        # Create a graphical slider.\n",
    "        slider = FloatSlider(min = 0, max = 2 * np.pi, value = theta[i], step = 1e-3)\n",
    "        \n",
    "        # Define a callback function that will be triggered when the slider is moved.\n",
    "        def callback(value, i = i):\n",
    "            theta[i] = value['new']\n",
    "            positions = chain_all(theta)\n",
    "            scat.x, scat.y = positions\n",
    "            lines.x, lines.y = positions\n",
    "\n",
    "        # \"Attach\" the callback function to the slider.\n",
    "        slider.observe(callback, 'value')\n",
    "        sliders.append(slider)\n",
    "\n",
    "    # Combine the plots and sliders in a vertical arrangement.\n",
    "    return VBox([*sliders, figure])"
   ]
  },
  {
   "cell_type": "markdown",
   "metadata": {},
   "source": [
    "Now, we ensure that the implementation of `chain_simple` satisfies all the specifications by invoking the `fk_demo()` function with arguments `chain_simple` and ``[0.]`` (the initial parameters of a flat chain). You should be able to drag a slider from 0 to $ 2 \\pi $ and see a visual representation of a 1-segment chain turning counter-clockwise."
   ]
  },
  {
   "cell_type": "code",
   "execution_count": 5,
   "metadata": {},
   "outputs": [
    {
     "data": {
      "application/vnd.jupyter.widget-view+json": {
       "model_id": "6a9557c5b15c4f6185918b8f4702378d",
       "version_major": 2,
       "version_minor": 0
      },
      "text/plain": [
       "VBox(children=(FloatSlider(value=0.0, max=6.283185307179586, step=0.001), Figure(fig_margin={'top': 60, 'botto…"
      ]
     },
     "execution_count": 5,
     "metadata": {},
     "output_type": "execute_result"
    }
   ],
   "source": [
    "# Visualization\n",
    "fk_demo(chain_simple, [0.])"
   ]
  },
  {
   "cell_type": "markdown",
   "metadata": {},
   "source": [
    "#### Longer Chains\n",
    "\n",
    "Now, we create a function `chain`, which solves the forward kinematics for an arbitrarily long sequence of segments. The function takes an arbitrary-length array of angles as a parameter. When no angles are specified, the function returns the position $ \\left( x_0, y_0 \\right) $ as before. When $ i $ angles are specified, it (only) returns  the joint position $ \\left( x_{i}, y_{i} \\right) $. In this case, unlike the assignment, we use recursion, which allows for a particularly simple implementation."
   ]
  },
  {
   "cell_type": "code",
   "execution_count": 6,
   "metadata": {},
   "outputs": [
    {
     "name": "stdout",
     "output_type": "stream",
     "text": [
      "chain:      [3.31597858 1.80146708]\n",
      "reference:  [3.31597858 1.80146708]\n",
      "\n",
      "chain:      [ 0.0000000e+00 -2.4492936e-16]\n",
      "reference:  [0. 0.]\n"
     ]
    }
   ],
   "source": [
    "# Solves the forward kinematics for a chain with arbitarily many segments.\n",
    "def chain(theta):\n",
    "    # Base Case (Zero - 0 OR One - 1)\n",
    "    if len(theta) <= 1:\n",
    "        # Return the simple result (x, y) according to the angle.\n",
    "        return chain_simple(theta)\n",
    "    \n",
    "    # Recursive Case\n",
    "    else:\n",
    "        # Create a copy of the array, as it is dynamically modified.\n",
    "        theta_copy = np.copy(theta)\n",
    "        \n",
    "        # Update the angle.\n",
    "        theta_copy[1] += theta_copy[0]\n",
    "        \n",
    "        # Return the simple result (x, y), along with the recursion.\n",
    "        return chain_simple([theta_copy[0]]) + chain(theta_copy[1:])\n",
    "\n",
    "# Tests\n",
    "print('chain:     ', chain([0.1, 0.2, 0.3, 0.4]))\n",
    "print('reference: ', np.array([3.31597858, 1.80146708]))\n",
    "print()\n",
    "print('chain:     ', chain([np.pi, np.pi, np.pi, np.pi]))\n",
    "print('reference: ', np.array([0., 0.]))"
   ]
  },
  {
   "cell_type": "markdown",
   "metadata": {},
   "source": [
    "#### Attempting To Reach A Certain Position\n",
    "\n",
    "Now, let us find a configuration of angles that brings the endpoint of the chain as close as possible to the location `[-2, 3]`. You should see a chain with five segments and five corresponding sliders, as well as an additional point highlighted in red. "
   ]
  },
  {
   "cell_type": "code",
   "execution_count": 7,
   "metadata": {},
   "outputs": [
    {
     "data": {
      "application/vnd.jupyter.widget-view+json": {
       "model_id": "9ebae7e7531841adb2cc83e6cb7cc1ca",
       "version_major": 2,
       "version_minor": 0
      },
      "text/plain": [
       "VBox(children=(FloatSlider(value=1.0, max=6.283185307179586, step=0.001), FloatSlider(value=0.58, max=6.283185…"
      ]
     },
     "execution_count": 7,
     "metadata": {},
     "output_type": "execute_result"
    }
   ],
   "source": [
    "# Demo\n",
    "fk_demo(chain, [1.00, 0.58, 0.69, 0.40, 0.53], [[-2], [3]])"
   ]
  },
  {
   "cell_type": "markdown",
   "metadata": {},
   "source": [
    "### Inverse Kinematics\n",
    "\n",
    "Problems similar to the last one are tedious to solve by hand: all of the parameters are interdependent and must be adjusted in a coordinated manner. So-called *inverse kinematics* techniques apply numerical root finding to determine solutions to this problem in an automated way. Now, we will use inverse kinematics to automatically determine $ \\theta_1, \\ldots, \\theta_n $ such that\n",
    "\n",
    "$$\n",
    "\\bm{p \\left( \\theta_1, \\ldots, \\theta_n \\right)} = \\bm{p_{\\mathrm{target}}}\n",
    "$$\n",
    "\n",
    "for a given value $ \\bm{p_{\\mathrm{target}}} \\in \\mathbb{R}^2 $. This means that for a given endpoint of the chain, the chain will automatically reconfigure itself to match.\n",
    "\n",
    "Numerical root finding techniques require the ability to evaluate the Jacobian of $ \\bm{p} $, i.e. all the partial derivatives $ \\frac{ \\partial \\bm{p \\left( \\theta_1, \\ldots, \\theta_n \\right)}}{\\partial \\theta_j} $. The partial derivatives encode how a small perturbation of each of the angles $ \\theta_j $ leads to a corresponding change in $ \\bm{p \\left( \\theta_1, \\ldots, \\theta_n \\right)} $."
   ]
  },
  {
   "cell_type": "markdown",
   "metadata": {},
   "source": [
    "#### A Simple 1-Segment Chain\n",
    "\n",
    "As before, we will first look at a 1-segment chain and then derive a solution for the general problem. We implement a function `dchain_simple(theta)` which takes an array with one entry, and which computes the function $ \\frac{\\partial \\bm{p \\left( \\theta_1 \\right)}}{\\partial \\theta_1} $. The return value is a two-dimensional array with one column and two rows containing the partial derivatives of the coordinate values $ x_1 $ and $ y_1 $.\n",
    "\n",
    "In this case, we use an analytic method, rather than approximating the derivatives via finite differences."
   ]
  },
  {
   "cell_type": "code",
   "execution_count": 8,
   "metadata": {},
   "outputs": [
    {
     "name": "stdout",
     "output_type": "stream",
     "text": [
      "dchain_simple: \n",
      " [[0.]\n",
      " [1.]]\n",
      "reference:     \n",
      " [[0.]\n",
      " [1.]]\n",
      "\n",
      "dchain_simple: \n",
      " [[-0.70710678]\n",
      " [ 0.70710678]]\n",
      "reference:     \n",
      " [[-0.70710678]\n",
      " [ 0.70710678]]\n"
     ]
    }
   ],
   "source": [
    "# Calculates the Jacobian (inverse kinematics) for a chain with at most one segment.\n",
    "def dchain_simple(theta):\n",
    "    # Base Case\n",
    "    if len(theta) == 0:\n",
    "        return np.array([[0.], [1.]])\n",
    "    \n",
    "    # Advanced Case\n",
    "    else:\n",
    "        # Jacobian Values\n",
    "        a = -np.sin(theta[0])\n",
    "        b = np.cos(theta[0])\n",
    "        \n",
    "        # Remove the negative size before a zero (0).\n",
    "        if a == 0: a = 0\n",
    "        \n",
    "        return np.array([[a], [b]])\n",
    "\n",
    "# Tests\n",
    "print('dchain_simple: \\n', dchain_simple([0.]))\n",
    "print('reference:     \\n', np.array([[0.], [1.]]))\n",
    "print()\n",
    "print('dchain_simple: \\n', dchain_simple([np.pi / 4]))\n",
    "print('reference:     \\n', np.array([[-0.70710678], [0.70710678]]))"
   ]
  },
  {
   "cell_type": "markdown",
   "metadata": {},
   "source": [
    "#### Implementing The Full Jacobian Function\n",
    "\n",
    "Now that we finished the version for a single segment, we will now turn to the full Jacobian $ \\nabla \\bm{p \\left( \\theta_1, \\ldots, \\theta_n \\right)} $, which is a $ 2 \\times n $ matrix containing the partial derivatives with respect to all angles. Here, we use a vector version of the [product](https://en.wikipedia.org/wiki/Product_rule) or [chain rule](https://en.wikipedia.org/wiki/Chain_rule) in the implementation. Specifically, note that\n",
    "\n",
    "$$\n",
    "\\frac{\\partial}{\\partial t} \\left[ \\bm{A \\left( t \\right)} \\bm{x \\left( t \\right)} \\right] = \\bm{A' \\left( t \\right)} \\bm{x \\left( t \\right)} + \\bm{A \\left( t \\right)} \\bm{x' \\left( t \\right)}\n",
    "$$\n",
    "\n",
    "where $ \\bm{A \\left( t \\right)} $ and $ \\bm{x \\left( t \\right)} $ are a matrix and a vector depending on a parameter $ t $, respectively.\n",
    "\n",
    "Thus, we implement a function `dchain(theta)` which accepts a 1D array of angles with length $ \\ge 1 $ and computes the Jacobian $ \\nabla \\bm{p \\left( \\theta_1, \\ldots, \\theta_n \\right)} $, a $ 2 \\times n $ matrix."
   ]
  },
  {
   "cell_type": "code",
   "execution_count": 9,
   "metadata": {},
   "outputs": [
    {
     "name": "stdout",
     "output_type": "stream",
     "text": [
      "dchain: \n",
      " [[0. 0. 0. 0.]\n",
      " [4. 3. 2. 1.]]\n",
      "reference: \n",
      " [[0. 0. 0. 0.]\n",
      " [4. 3. 2. 1.]]\n",
      "\n",
      "dchain: \n",
      " [[-0.9599961  -0.86016268 -0.56464247]\n",
      " [ 2.77567627  1.7806721   0.82533561]]\n",
      "reference: \n",
      " [[-0.9599961  -0.86016268 -0.56464247]\n",
      " [ 2.77567627  1.7806721   0.82533561]]\n"
     ]
    }
   ],
   "source": [
    "# Calculates the Jacobian (inverse kinematics) for a chain with arbitrarily many segments.\n",
    "def dchain(theta):\n",
    "    # Create a copy of the array, as it is dynamically modified.\n",
    "    theta_copy = np.copy(theta)\n",
    "    \n",
    "    # Create an array, which holds intermediate values.\n",
    "    arr = []\n",
    "    \n",
    "    # Cycle through the array, up to (n - 1) elements.\n",
    "    for i in range(len(theta) - 1):\n",
    "        # Appends the simple result (x, y) according to the angle.\n",
    "        arr.append(dchain_simple(theta_copy))\n",
    "        \n",
    "        # Update the angle.\n",
    "        theta_copy[1] += theta_copy[0]\n",
    "        \n",
    "        # Update the array start.\n",
    "        theta_copy = theta_copy[1:]\n",
    "        \n",
    "    # Appends the simple result (x, y) according to the angle (after cycle).\n",
    "    arr.append(dchain_simple(theta_copy))\n",
    "    \n",
    "    # Create the final result array.\n",
    "    result = []\n",
    "    \n",
    "    # Cycle through the array.\n",
    "    for i in range(len(theta)):\n",
    "        # Add the sum of elements, starting at index i.\n",
    "        result.append(sum(arr[i:]))\n",
    "    \n",
    "    # Return the result, reshaped and ordered (as appropriate).\n",
    "    return np.array(result).flatten().reshape((2, len(theta)), order = 'F')\n",
    "   \n",
    "# Tests\n",
    "print('dchain: \\n', dchain([0., 0., 0., 0.]))\n",
    "print('reference: \\n', np.array([[0., 0., 0., 0.], [4., 3., 2., 1.]]))\n",
    "print()\n",
    "print('dchain: \\n', dchain([0.1, 0.2, 0.3]))\n",
    "print('reference: \\n', np.array([[-0.9599961, -0.86016268, -0.56464247], [2.77567627, 1.7806721, 0.82533561]]))"
   ]
  },
  {
   "cell_type": "markdown",
   "metadata": {},
   "source": [
    "#### Solving The Inverse Kinematics Problem Using Newton's Method\n",
    "\n",
    "Newton's method is one of the most widely used methods for finding solutions to systems of non-linear equations. It converges at a remarkable speed when started sufficiently close to a root, though there is generally no strict guarantee of convergence.\n",
    "\n",
    "Given a function $  \\bm{f \\left( \\bm{x} \\right)} $, Newton's method tries to find a solution to the equation $ \\bm{f} = \\mathbf{0} $ using steps of the form\n",
    "\n",
    "$$\n",
    "\\bm{x_{i + 1}} = \\bm{x_i} - \\left( \\nabla \\bm{f \\left( \\bm{x_{i}} \\right)} \\right)^{-1} \\bm{f \\left( \\bm{x_{i}} \\right)}\n",
    "$$\n",
    "\n",
    "---\n",
    "\n",
    "In the context of inverse kinematics, we want to apply Newton's method to solve an equation of the form\n",
    "\n",
    "$$\n",
    "\\bm{p \\left( \\theta_1, \\ldots, \\theta_n \\right)} = \\bm{p_{\\mathrm{target}}}\n",
    "$$\n",
    "\n",
    "for a given reference position $ \\bm{p_{\\mathrm{target}}} \\in \\mathbb{R}^2 $.\n",
    "\n",
    "---\n",
    "\n",
    "In other words, the unknowns are the angles $ \\theta_1, \\ldots, \\theta_n $, and the function whose root we seek maps to a two-dimensional domain. It is not immediately obvious how to apply Newton's method, since the Jacobian of the function has the shape $ 2 \\times n $ and hence cannot be inverted using standard techniques like LU decomposition.\n",
    "\n",
    "This is a consequence of the fact that many different configurations can be used to reach the same $ \\bm{p_{\\mathrm{target}}} $. Fortunately, we can use the *pseudo-inverse*, a generalization of the inverse to non-square matrices. In this specific case, the Jacobian is *wide* (it has more columns than rows), so the pseudo-inverse will find the solution to a linear system which has the smallest $ \\| \\cdot \\|_2 $-norm.\n",
    "\n",
    "Now we implement a function `newton(theta, target)` that takes a 1-dimensional array of angles as a starting guess as well as a 2D target position (specified as a 1-dimensional array) as input. The implementation performs a fixed `8` iterations of Newton's method to try to solve the equation $ \\bm{p \\left( \\theta_1, \\ldots, \\theta_n \\right)} = \\bm{p_{\\mathrm{target}}} $ and returns the final set of parameters $ \\theta_1, \\ldots, \\theta_n $ as an 1-dimensional `numpy` array. The function `la.pinv` is used to compute the *pseudo-inverse*."
   ]
  },
  {
   "cell_type": "code",
   "execution_count": 10,
   "metadata": {},
   "outputs": [
    {
     "name": "stdout",
     "output_type": "stream",
     "text": [
      "chain(newton):  [6.123234e-17 1.000000e+00]\n",
      "reference:      [0. 1.]\n",
      "\n",
      "chain(newton):  [0.5 0.5]\n",
      "reference:      [0.5 0.5]\n"
     ]
    }
   ],
   "source": [
    "# Boolean value used for error logging.\n",
    "logging = False\n",
    "\n",
    "# Calculates the Jacobian (inverse kinematics) for a chain with arbitrarily many segments.\n",
    "def newton(theta, target):    \n",
    "    # Save the length of the chain, for the loop and reshaping.\n",
    "    chain_len = len(theta)\n",
    "    \n",
    "    for i in range(8):\n",
    "        # Error Logging\n",
    "        if logging: print('LOOP {}'.format(i))\n",
    "        if logging: print('THETA \\n {}'.format(theta))\n",
    "        \n",
    "        # Calculates the difference between the calculated point and the target.\n",
    "        f_x = chain(theta) - target\n",
    "        \n",
    "        if logging: print('F_X \\n {}'.format(f_x))\n",
    "        \n",
    "        # Calculates the change (matrix multiplication of inverse of Jacobian and function).\n",
    "        change = np.matmul(la.pinv(dchain(theta)), f_x.reshape((2, 1))) # % (2 * np.pi)\n",
    "        \n",
    "        # Error Logging\n",
    "        if logging: print('CHANGE \\n {}'.format(change))\n",
    "        \n",
    "        # Updating 'theta' (the list of angles).\n",
    "        theta = (theta.reshape((chain_len, 1)) - change).flatten()\n",
    "    \n",
    "    # Error Logging\n",
    "    if logging: print()\n",
    "    \n",
    "    return theta\n",
    "\n",
    "# Tests\n",
    "# Moving a 1-element chain from the default configuration to position (0., 1.)\n",
    "print('chain(newton): ', chain(newton(np.array([0.]), np.array([0., 1.]))))\n",
    "print('reference:     ', np.array([0., 1.]))\n",
    "print()\n",
    "\n",
    "# Moving a 2-element chain from the default configuration to position (0.5, 0.5)\n",
    "print('chain(newton): ', chain(newton(np.array([0., 0.]), np.array([0.5, 0.5]))))\n",
    "print('reference:     ', np.array([0.5, 0.5]))"
   ]
  }
 ],
 "metadata": {
  "kernelspec": {
   "display_name": "Python 3",
   "language": "python",
   "name": "python3"
  },
  "language_info": {
   "codemirror_mode": {
    "name": "ipython",
    "version": 3
   },
   "file_extension": ".py",
   "mimetype": "text/x-python",
   "name": "python",
   "nbconvert_exporter": "python",
   "pygments_lexer": "ipython3",
   "version": "3.11.5"
  }
 },
 "nbformat": 4,
 "nbformat_minor": 2
}
